{
 "cells": [
  {
   "cell_type": "code",
   "execution_count": 64,
   "metadata": {},
   "outputs": [],
   "source": [
    "import pandas as pd \n",
    "import datetime as dt\n",
    "import numpy as np\n",
    "import keras\n",
    "import plotly.graph_objects as go\n",
    "\n",
    "from keras.models import Sequential\n",
    "import tensorflow as tf\n",
    "from alphaRNN import *\n",
    "from keras.layers import Dense\n",
    "from keras.callbacks import EarlyStopping\n",
    "from keras.regularizers import l1\n",
    "from sklearn.metrics import mean_squared_error"
   ]
  },
  {
   "cell_type": "code",
   "execution_count": 2,
   "metadata": {},
   "outputs": [],
   "source": [
    "data = pd.read_csv(\"hourlySummaries.csv\")\n",
    "data = data.set_index(\"hour\")\n",
    "data = data[data.columns[1:]]\n",
    "# data = data.iloc[:1000,]\n",
    "\n",
    "train_weight = 0.80\n",
    "split = int(len(data)*train_weight)\n",
    "df_train = data.iloc[:split].copy()\n",
    "df_test = data.iloc[split:].copy()"
   ]
  },
  {
   "cell_type": "code",
   "execution_count": 51,
   "metadata": {},
   "outputs": [],
   "source": [
    "X_train = df_train[[\"numBorrows\",\"amountBorrowedUSD\"]]\n",
    "X_test = df_test[[\"numBorrows\",\"amountBorrowedUSD\"]]\n",
    "y_train = df_train[\"aaveHourlyChange\"]\n",
    "y_test = df_test[\"aaveHourlyChange\"]"
   ]
  },
  {
   "cell_type": "code",
   "execution_count": 52,
   "metadata": {},
   "outputs": [],
   "source": [
    "x_train_reg = np.array(X_train)\n",
    "x_test_reg = np.array(X_test)\n",
    "y_train_reg = np.array(y_train)\n",
    "y_test_reg = np.array(y_test)"
   ]
  },
  {
   "cell_type": "code",
   "execution_count": 53,
   "metadata": {},
   "outputs": [],
   "source": [
    "x_train_reg = np.reshape(x_train_reg, (x_train_reg.shape[0], x_train_reg.shape[1], 1))\n",
    "x_test_reg = np.reshape(x_test_reg, (x_test_reg.shape[0], x_test_reg.shape[1], 1))"
   ]
  },
  {
   "cell_type": "code",
   "execution_count": 54,
   "metadata": {},
   "outputs": [],
   "source": [
    "keras.backend.clear_session()"
   ]
  },
  {
   "cell_type": "code",
   "execution_count": 55,
   "metadata": {},
   "outputs": [
    {
     "name": "stdout",
     "output_type": "stream",
     "text": [
      "Train on 6944 samples, validate on 1736 samples\n",
      "Epoch 1/10\n",
      "6944/6944 [==============================] - 4s 592us/step - loss: 1495825056.8489 - val_loss: 1157900685.6774\n",
      "Epoch 2/10\n",
      "6944/6944 [==============================] - 3s 378us/step - loss: 81260060.6684 - val_loss: 31953.2548\n",
      "Epoch 3/10\n",
      "6944/6944 [==============================] - 3s 373us/step - loss: 71405.7871 - val_loss: 615261.6202\n",
      "Epoch 4/10\n",
      "6944/6944 [==============================] - 3s 411us/step - loss: 24653026.4202 - val_loss: 28991.8086\n",
      "Epoch 5/10\n",
      "6944/6944 [==============================] - 3s 375us/step - loss: 440001477.1605 - val_loss: 29071323645.6406\n",
      "Epoch 6/10\n",
      "6944/6944 [==============================] - 3s 403us/step - loss: 40781618005.8365 - val_loss: 74005804.2350\n",
      "Epoch 7/10\n",
      "6944/6944 [==============================] - 3s 368us/step - loss: 4975921.4390 - val_loss: 10.7498\n",
      "Epoch 8/10\n",
      "6944/6944 [==============================] - 3s 476us/step - loss: 31.0231 - val_loss: 10.7284\n",
      "Epoch 9/10\n",
      "6944/6944 [==============================] - 4s 510us/step - loss: 222358.8865 - val_loss: 50.4511\n",
      "Epoch 10/10\n",
      "6944/6944 [==============================] - 4s 557us/step - loss: 60096538.5529 - val_loss: 16645.8664\n"
     ]
    }
   ],
   "source": [
    "model = keras.Sequential()\n",
    "model.add(keras.layers.LSTM(50, activation='relu', input_shape=(2, 1)))\n",
    "model.add(keras.layers.Dense(1))\n",
    "model.compile(optimizer='adam', loss='mse')\n",
    "\n",
    "model.fit(x_train_reg, y_train_reg, epochs=10, validation_split=0.2, verbose=1)\n",
    "\n",
    "y_pred = model.predict(x_test_reg)"
   ]
  },
  {
   "cell_type": "markdown",
   "metadata": {},
   "source": [
    "# Alpha RNN"
   ]
  },
  {
   "cell_type": "code",
   "execution_count": 56,
   "metadata": {},
   "outputs": [],
   "source": [
    "def AlphaRNN_(n_units = 10, l1_reg=0, seed=0):\n",
    "  model = Sequential()\n",
    "  model.add(AlphaRNN(n_units, activation='tanh', kernel_initializer=keras.initializers.glorot_uniform(seed), bias_initializer=keras.initializers.glorot_uniform(seed), recurrent_initializer=keras.initializers.orthogonal(seed), kernel_regularizer=l1(l1_reg), input_shape=(x_train_reg.shape[1], x_train_reg.shape[-1]), unroll=True))\n",
    "  model.add(Dense(1, kernel_initializer=keras.initializers.glorot_uniform(seed), bias_initializer=keras.initializers.glorot_uniform(seed), kernel_regularizer=l1(l1_reg)))\n",
    "  model.compile(loss='mean_squared_error', optimizer='adam')\n",
    "  return model"
   ]
  },
  {
   "cell_type": "code",
   "execution_count": 57,
   "metadata": {},
   "outputs": [],
   "source": [
    "max_epoches=2000\n",
    "batch_size=1000\n",
    "\n",
    "es = EarlyStopping(monitor='loss', mode='min', verbose=1, patience=100, min_delta=1e-7, restore_best_weights=True)\n",
    "\n",
    "# params = {'alpharnn': {'model':'', 'function':AlphaRNN_,'l1_reg':0.0, 'H':10,'color': 'green', 'label': '$\\\\alpha$-RNN' }}"
   ]
  },
  {
   "cell_type": "code",
   "execution_count": 58,
   "metadata": {},
   "outputs": [
    {
     "name": "stdout",
     "output_type": "stream",
     "text": [
      "Epoch 1/10\n",
      "8680/8680 [==============================] - 1s 100us/step - loss: 27.1148\n",
      "Epoch 2/10\n",
      "8680/8680 [==============================] - 0s 7us/step - loss: 27.0243\n",
      "Epoch 3/10\n",
      "8680/8680 [==============================] - 0s 6us/step - loss: 26.9457\n",
      "Epoch 4/10\n",
      "8680/8680 [==============================] - 0s 6us/step - loss: 26.8796\n",
      "Epoch 5/10\n",
      "8680/8680 [==============================] - 0s 6us/step - loss: 26.8254\n",
      "Epoch 6/10\n",
      "8680/8680 [==============================] - 0s 6us/step - loss: 26.7823\n",
      "Epoch 7/10\n",
      "8680/8680 [==============================] - 0s 7us/step - loss: 26.7488\n",
      "Epoch 8/10\n",
      "8680/8680 [==============================] - 0s 7us/step - loss: 26.7235\n",
      "Epoch 9/10\n",
      "8680/8680 [==============================] - 0s 6us/step - loss: 26.7048\n",
      "Epoch 10/10\n",
      "8680/8680 [==============================] - 0s 6us/step - loss: 26.6913\n"
     ]
    },
    {
     "data": {
      "text/plain": [
       "<keras.callbacks.callbacks.History at 0x7f9bfa219cd0>"
      ]
     },
     "execution_count": 58,
     "metadata": {},
     "output_type": "execute_result"
    }
   ],
   "source": [
    "model = AlphaRNN_(10,0.0)\n",
    "model.fit(x_train_reg,y_train_reg,epochs=10, batch_size=batch_size,callbacks=[es],shuffle=False)\n",
    "\n",
    "# for key in params.keys():\n",
    "#     tf.random.set_seed(0)\n",
    "#     # model=params[key]['function'](params[key]['H'],params[key]['l1_reg'])\n",
    "#     model = AlphaRNN_(10,0.0)\n",
    "#     model.fit(x_train_reg,y_train_reg,epochs=10, batch_size=batch_size,callbacks=[es],shuffle=False)\n",
    "#     params[key]['model']=model"
   ]
  },
  {
   "cell_type": "code",
   "execution_count": 63,
   "metadata": {},
   "outputs": [
    {
     "name": "stdout",
     "output_type": "stream",
     "text": [
      "Model: \"sequential_2\"\n",
      "_________________________________________________________________\n",
      "Layer (type)                 Output Shape              Param #   \n",
      "=================================================================\n",
      "alpha_rnn_1 (AlphaRNN)       (None, 10)                121       \n",
      "_________________________________________________________________\n",
      "dense_2 (Dense)              (None, 1)                 11        \n",
      "=================================================================\n",
      "Total params: 132\n",
      "Trainable params: 132\n",
      "Non-trainable params: 0\n",
      "_________________________________________________________________\n"
     ]
    }
   ],
   "source": [
    "model.summary()"
   ]
  },
  {
   "cell_type": "code",
   "execution_count": 66,
   "metadata": {},
   "outputs": [
    {
     "name": "stdout",
     "output_type": "stream",
     "text": [
      "8680/8680 [==============================] - 0s 20us/step\n",
      "2171/2171 [==============================] - 0s 21us/step\n"
     ]
    }
   ],
   "source": [
    "y_pred_train = model.predict(x_train_reg, verbose = 1)\n",
    "MSE_train= mean_squared_error(y_train,y_pred_train)\n",
    "y_pred = model.predict(x_test_reg, verbose = 1)\n",
    "MSE_test= mean_squared_error(y_test,y_pred)\n"
   ]
  }
 ],
 "metadata": {
  "interpreter": {
   "hash": "6dd1b16e01532cf34435f5e377669b4bcef98f88471d07c63b97f5dd0dc257c2"
  },
  "kernelspec": {
   "display_name": "Python 3.7.11 ('tf')",
   "language": "python",
   "name": "python3"
  },
  "language_info": {
   "codemirror_mode": {
    "name": "ipython",
    "version": 3
   },
   "file_extension": ".py",
   "mimetype": "text/x-python",
   "name": "python",
   "nbconvert_exporter": "python",
   "pygments_lexer": "ipython3",
   "version": "3.7.11"
  },
  "orig_nbformat": 4
 },
 "nbformat": 4,
 "nbformat_minor": 2
}

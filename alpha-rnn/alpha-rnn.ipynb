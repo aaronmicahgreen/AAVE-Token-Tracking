{
 "cells": [
  {
   "cell_type": "code",
   "execution_count": 118,
   "metadata": {},
   "outputs": [],
   "source": [
    "import pandas as pd \n",
    "import datetime as dt\n",
    "import numpy as np"
   ]
  },
  {
   "cell_type": "code",
   "execution_count": 113,
   "metadata": {},
   "outputs": [],
   "source": [
    "gas = pd.read_csv(\"Data/avg_gas.csv\", dtype= {\"Date\" : str, \"Fee (USD)\" : float}, parse_dates=[0], infer_datetime_format=True, index_col = [\"Date\"])\n",
    "prices = pd.read_csv(\"Data/hourly_prices.csv\", dtype = {\"HOUR\" : str, \"PRICE\" : float}, parse_dates = [0], infer_datetime_format=True, index_col = [\"HOUR\"])\n",
    "prices = pd.DataFrame(prices[\"PRICE\"])\n",
    "prices.columns = [\"price\"]\n",
    "prices = prices.set_index(pd.to_datetime(prices.index))\n",
    "tx = pd.read_csv(\"Data/transactionsJan2022.csv\", dtype = str, parse_dates = [32], infer_datetime_format=True, low_memory=False, index_col=[32])\n",
    "tx_subset = tx[[\"borrowRate\",\"amountUSD\"]].dropna()\n",
    "tx_subset = tx_subset.astype(float)\n",
    "tx_subset = tx_subset.set_index(pd.to_datetime(tx_subset.index.strftime('%Y-%m-%d %H:00:00')))\n",
    "tx_subset[\"gas\"] = gas\n",
    "tx_subset[\"price\"] = prices\n",
    "tx_subset[\"next_price\"] = tx_subset[\"price\"].shift()\n",
    "tx_subset[\"ret\"] = tx_subset[\"next_price\"] / tx_subset[\"price\"] - 1"
   ]
  },
  {
   "cell_type": "code",
   "execution_count": 159,
   "metadata": {},
   "outputs": [
    {
     "name": "stdout",
     "output_type": "stream",
     "text": [
      "borrowRate -3.791707354490484e-20 1.0\n",
      "amountUSD 2.7759186765490334e-17 1.0\n",
      "gas 7.47585790529092e-18 1.0000000000000002\n"
     ]
    }
   ],
   "source": [
    "train_weight = 0.8\n",
    "split = int(len(tx_subset)*train_weight)\n",
    "df_train = tx_subset.iloc[:split].copy()\n",
    "df_test = tx_subset.iloc[split:].copy()\n",
    "\n",
    "for col in [\"borrowRate\", \"amountUSD\",\"gas\"]:\n",
    "    mu = df_train[col].mean()\n",
    "    sigma = df_train[col].std()\n",
    "    print(col, mu, sigma)\n",
    "    df_train.loc[:,col] = (df_train[col] - mu ) / sigma\n",
    "    df_test.loc[:,col] = (df_test.loc[:,col] - mu) / sigma"
   ]
  },
  {
   "cell_type": "code",
   "execution_count": null,
   "metadata": {},
   "outputs": [],
   "source": []
  }
 ],
 "metadata": {
  "interpreter": {
   "hash": "6dd1b16e01532cf34435f5e377669b4bcef98f88471d07c63b97f5dd0dc257c2"
  },
  "kernelspec": {
   "display_name": "Python 3.7.11 ('tf')",
   "language": "python",
   "name": "python3"
  },
  "language_info": {
   "codemirror_mode": {
    "name": "ipython",
    "version": 3
   },
   "file_extension": ".py",
   "mimetype": "text/x-python",
   "name": "python",
   "nbconvert_exporter": "python",
   "pygments_lexer": "ipython3",
   "version": "3.7.11"
  },
  "orig_nbformat": 4
 },
 "nbformat": 4,
 "nbformat_minor": 2
}

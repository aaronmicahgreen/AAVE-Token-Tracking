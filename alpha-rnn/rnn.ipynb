{
 "cells": [
  {
   "cell_type": "code",
   "execution_count": 1,
   "metadata": {},
   "outputs": [
    {
     "name": "stderr",
     "output_type": "stream",
     "text": [
      "Using TensorFlow backend.\n"
     ]
    }
   ],
   "source": [
    "import pandas as pd \n",
    "import datetime as dt\n",
    "import numpy as np\n",
    "import keras\n",
    "import plotly.graph_objects as go\n",
    "\n",
    "from keras.models import Sequential\n",
    "import tensorflow as tf\n",
    "from alphaRNN import *\n",
    "from keras.layers import Dense\n",
    "from keras.callbacks import EarlyStopping\n",
    "from keras.regularizers import l1\n",
    "from sklearn.metrics import mean_squared_error, r2_score"
   ]
  },
  {
   "cell_type": "code",
   "execution_count": 2,
   "metadata": {},
   "outputs": [],
   "source": [
    "data = pd.read_csv(\"hourlySummaries.csv\")\n",
    "data = data.set_index(\"hour\")\n",
    "data = data[data.columns[1:]]\n",
    "# data = data.iloc[:1000,]\n",
    "\n",
    "train_weight = 0.80\n",
    "split = int(len(data)*train_weight)\n",
    "df_train = data.iloc[:split].copy()\n",
    "df_test = data.iloc[split:].copy()"
   ]
  },
  {
   "cell_type": "code",
   "execution_count": 3,
   "metadata": {},
   "outputs": [],
   "source": [
    "X_train = df_train.iloc[:,list(range(1,32))]\n",
    "X_test = df_test.iloc[:,list(range(1,32))]\n",
    "\n",
    "# X_train = X_train.drop(\"ethPriceUSD\", axis=1)\n",
    "# X_test = X_test.drop(\"ethPriceUSD\", axis = 1)\n",
    "\n",
    "y_train = df_train[\"aaveHourlyChange\"]\n",
    "y_test = df_test[\"aaveHourlyChange\"]\n",
    "# y_train = df_train[\"aaveDirectionOfChange\"]\n",
    "# y_test = df_test[\"aaveDirectionOfChange\"]"
   ]
  },
  {
   "cell_type": "code",
   "execution_count": 4,
   "metadata": {},
   "outputs": [],
   "source": [
    "x_train_reg = np.array(X_train)\n",
    "x_test_reg = np.array(X_test)\n",
    "y_train_reg = np.array(y_train)\n",
    "y_test_reg = np.array(y_test)"
   ]
  },
  {
   "cell_type": "code",
   "execution_count": 5,
   "metadata": {},
   "outputs": [],
   "source": [
    "x_train_reg = np.reshape(x_train_reg, (x_train_reg.shape[0], x_train_reg.shape[1], 1))\n",
    "x_test_reg = np.reshape(x_test_reg, (x_test_reg.shape[0], x_test_reg.shape[1], 1))"
   ]
  },
  {
   "cell_type": "code",
   "execution_count": 10,
   "metadata": {},
   "outputs": [
    {
     "name": "stdout",
     "output_type": "stream",
     "text": [
      "Train on 6944 samples, validate on 1736 samples\n",
      "Epoch 1/1\n",
      "1024/6944 [===>..........................] - ETA: 32s - loss: 123848375304.0000"
     ]
    }
   ],
   "source": [
    "import time\n",
    "start = time.time()\n",
    "model = keras.Sequential()\n",
    "model.add(keras.layers.LSTM(50, activation='relu', input_shape=(x_train_reg.shape[1], 1)))\n",
    "model.add(keras.layers.Dense(1))\n",
    "model.compile(optimizer='adam', loss='mse')\n",
    "\n",
    "model.fit(x_train_reg, y_train_reg, epochs=1, validation_split=0.2, verbose=1)\n",
    "run_time = time.time() - start\n",
    "y_pred = model.predict(x_test_reg)\n"
   ]
  },
  {
   "cell_type": "code",
   "execution_count": null,
   "metadata": {},
   "outputs": [],
   "source": [
    "print(run_time)"
   ]
  },
  {
   "cell_type": "code",
   "execution_count": 7,
   "metadata": {},
   "outputs": [
    {
     "name": "stdout",
     "output_type": "stream",
     "text": [
      "8680/8680 [==============================] - 9s 1ms/step\n",
      "Train MSE:  108068567345.63895\n",
      "Train r2:  -4057284915.019463\n",
      "2171/2171 [==============================] - 2s 968us/step\n",
      "Test MSE:  52913209290.45606\n",
      "Test r2:  -10969166281.267998\n"
     ]
    },
    {
     "data": {
      "text/plain": [
       "-11128139705.648693"
      ]
     },
     "execution_count": 7,
     "metadata": {},
     "output_type": "execute_result"
    }
   ],
   "source": [
    "y_pred_train = model.predict(x_train_reg, verbose = 1)\n",
    "MSE_train= mean_squared_error(y_train,y_pred_train)\n",
    "r2_train = r2_score(y_train, y_pred_train)\n",
    "\n",
    "print(\"Train MSE: \", MSE_train)\n",
    "print(\"Train r2: \", r2_train)\n",
    "\n",
    "y_pred = model.predict(x_test_reg, verbose = 1)\n",
    "MSE_test= mean_squared_error(y_test,y_pred)\n",
    "r2_test = r2_score(y_test, y_pred)\n",
    "\n",
    "print(\"Test MSE: \", MSE_test)\n",
    "print(\"Test r2: \", r2_test)\n",
    "\n",
    "1 - (1-r2_test)*(len(y_test_reg)-1)/(len(y_test_reg)-x_test_reg.shape[1]-1)"
   ]
  },
  {
   "cell_type": "code",
   "execution_count": 8,
   "metadata": {},
   "outputs": [
    {
     "name": "stdout",
     "output_type": "stream",
     "text": [
      "Model: \"sequential_1\"\n",
      "_________________________________________________________________\n",
      "Layer (type)                 Output Shape              Param #   \n",
      "=================================================================\n",
      "lstm_1 (LSTM)                (None, 50)                10400     \n",
      "_________________________________________________________________\n",
      "dense_1 (Dense)              (None, 1)                 51        \n",
      "=================================================================\n",
      "Total params: 10,451\n",
      "Trainable params: 10,451\n",
      "Non-trainable params: 0\n",
      "_________________________________________________________________\n"
     ]
    }
   ],
   "source": [
    "model.summary()"
   ]
  },
  {
   "cell_type": "code",
   "execution_count": 9,
   "metadata": {},
   "outputs": [
    {
     "name": "stdout",
     "output_type": "stream",
     "text": [
      "8680/8680 [==============================] - 9s 987us/step\n",
      "Train MSE:  108068567345.63895\n",
      "Train r2:  -4057284915.019463\n",
      "2171/2171 [==============================] - 2s 1ms/step\n",
      "Test MSE:  52913209290.45606\n",
      "Test r2:  -10969166281.267998\n"
     ]
    }
   ],
   "source": [
    "y_pred_train = model.predict(x_train_reg, verbose = 1)\n",
    "MSE_train= mean_squared_error(y_train,y_pred_train)\n",
    "r2_train = r2_score(y_train, y_pred_train)\n",
    "\n",
    "print(\"Train MSE: \", MSE_train)\n",
    "print(\"Train r2: \", r2_train)\n",
    "\n",
    "y_pred = model.predict(x_test_reg, verbose = 1)\n",
    "MSE_test= mean_squared_error(y_test,y_pred)\n",
    "r2_test = r2_score(y_test, y_pred)\n",
    "\n",
    "print(\"Test MSE: \", MSE_test)\n",
    "print(\"Test r2: \", r2_test)"
   ]
  }
 ],
 "metadata": {
  "interpreter": {
   "hash": "6dd1b16e01532cf34435f5e377669b4bcef98f88471d07c63b97f5dd0dc257c2"
  },
  "kernelspec": {
   "display_name": "Python 3.7.11 ('tf')",
   "language": "python",
   "name": "python3"
  },
  "language_info": {
   "codemirror_mode": {
    "name": "ipython",
    "version": 3
   },
   "file_extension": ".py",
   "mimetype": "text/x-python",
   "name": "python",
   "nbconvert_exporter": "python",
   "pygments_lexer": "ipython3",
   "version": "3.7.11"
  },
  "orig_nbformat": 4
 },
 "nbformat": 4,
 "nbformat_minor": 2
}

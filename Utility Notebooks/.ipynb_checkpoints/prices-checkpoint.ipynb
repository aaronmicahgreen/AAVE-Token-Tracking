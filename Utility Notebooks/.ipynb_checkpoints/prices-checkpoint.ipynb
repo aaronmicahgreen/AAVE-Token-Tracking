{
 "cells": [
  {
   "cell_type": "code",
   "execution_count": null,
   "metadata": {},
   "outputs": [],
   "source": [
    "import requests\n",
    "import pandas as pd\n",
    "import datetime as dt"
   ]
  },
  {
   "cell_type": "code",
   "execution_count": null,
   "metadata": {},
   "outputs": [],
   "source": [
    "price_req = requests.get(\"https://api.flipsidecrypto.com/api/v2/queries/34bbff97-4a22-478d-be8b-cdb52161b6ef/data/latest\").json()\n",
    "price = pd.DataFrame(price_req)\n",
    "price.to_csv(\"hourly_prices.csv\")"
   ]
  },
  {
   "cell_type": "markdown",
   "metadata": {},
   "source": [
    "SQL Query to generate: \n",
    "\n",
    "select hour, price from ethereum.token_prices_hourly\n",
    "    where symbol = 'AAVE' \n",
    "    and hour >= '2020-11-30'\n",
    "    order by hour asc"
   ]
  }
 ],
 "metadata": {
  "kernelspec": {
   "display_name": "Python 3",
   "language": "python",
   "name": "python3"
  },
  "language_info": {
   "codemirror_mode": {
    "name": "ipython",
    "version": 3
   },
   "file_extension": ".py",
   "mimetype": "text/x-python",
   "name": "python",
   "nbconvert_exporter": "python",
   "pygments_lexer": "ipython3",
   "version": "3.8.8"
  }
 },
 "nbformat": 4,
 "nbformat_minor": 2
}

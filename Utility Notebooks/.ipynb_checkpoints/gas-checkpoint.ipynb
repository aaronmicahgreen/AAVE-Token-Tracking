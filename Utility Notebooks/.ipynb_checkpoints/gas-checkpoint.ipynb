{
 "cells": [
  {
   "cell_type": "code",
   "execution_count": 1,
   "metadata": {},
   "outputs": [],
   "source": [
    "import requests\n",
    "import pandas as pd\n",
    "import datetime as dt"
   ]
  },
  {
   "cell_type": "code",
   "execution_count": 2,
   "metadata": {},
   "outputs": [],
   "source": [
    "req = requests.get(\"https://api.flipsidecrypto.com/api/v2/queries/b14fdd1a-d2ec-486b-863a-4f152033c6ad/data/latest\").json()"
   ]
  },
  {
   "cell_type": "code",
   "execution_count": 3,
   "metadata": {},
   "outputs": [],
   "source": [
    "def convert_date(row):\n",
    "    ts = dt.datetime.strptime(row[\"DATE\"], '%Y-%m-%d')\n",
    "    ts = ts.replace(hour=row[\"HOUR\"])\n",
    "    return ts"
   ]
  },
  {
   "cell_type": "code",
   "execution_count": 4,
   "metadata": {},
   "outputs": [],
   "source": [
    "df = pd.DataFrame(req)\n",
    "df[\"datetime\"] = df.apply(convert_date, axis=1)\n",
    "df = df.drop(['DATE','HOUR'], axis = 1)\n",
    "df = df.sort_values(by=\"datetime\")\n",
    "df.columns = [\"Fee (USD)\", \"Date\"]\n",
    "df = df[[\"Date\",\"Fee (USD)\"]]"
   ]
  },
  {
   "cell_type": "code",
   "execution_count": 5,
   "metadata": {},
   "outputs": [],
   "source": [
    "df.to_csv(\"avg_gas.csv\",index=False)"
   ]
  }
 ],
 "metadata": {
  "interpreter": {
   "hash": "97520f9aacaac46f2c0129506964c47e01253458cc0b23ac799c58affb0c61b7"
  },
  "kernelspec": {
   "display_name": "Python 3",
   "language": "python",
   "name": "python3"
  },
  "language_info": {
   "codemirror_mode": {
    "name": "ipython",
    "version": 3
   },
   "file_extension": ".py",
   "mimetype": "text/x-python",
   "name": "python",
   "nbconvert_exporter": "python",
   "pygments_lexer": "ipython3",
   "version": "3.8.8"
  }
 },
 "nbformat": 4,
 "nbformat_minor": 2
}
